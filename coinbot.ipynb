{
 "cells": [
  {
   "cell_type": "markdown",
   "metadata": {},
   "source": [
    "## install & import packages"
   ]
  },
  {
   "cell_type": "markdown",
   "metadata": {},
   "source": [
    "#### Press Kernel above -> restart & run all"
   ]
  },
  {
   "cell_type": "code",
   "execution_count": null,
   "metadata": {},
   "outputs": [],
   "source": [
    "pip install pandas_ta"
   ]
  },
  {
   "cell_type": "code",
   "execution_count": null,
   "metadata": {},
   "outputs": [],
   "source": [
    "pip install cbpro"
   ]
  },
  {
   "cell_type": "code",
   "execution_count": null,
   "metadata": {},
   "outputs": [],
   "source": [
    "pip install dataclasses"
   ]
  },
  {
   "cell_type": "code",
   "execution_count": null,
   "metadata": {},
   "outputs": [],
   "source": [
    "pip install matplotlib"
   ]
  },
  {
   "cell_type": "code",
   "execution_count": null,
   "metadata": {},
   "outputs": [],
   "source": [
    "import json\n",
    "import pandas_ta as ta\n",
    "import cbpro\n",
    "import pandas as pd\n",
    "import matplotlib.pyplot as plt"
   ]
  },
  {
   "cell_type": "markdown",
   "metadata": {},
   "source": [
    "## public coinbase query"
   ]
  },
  {
   "cell_type": "code",
   "execution_count": null,
   "metadata": {},
   "outputs": [],
   "source": [
    "public_client = cbpro.PublicClient() #opens a client to query PUBLIC coinbase api"
   ]
  },
  {
   "cell_type": "code",
   "execution_count": null,
   "metadata": {},
   "outputs": [],
   "source": [
    "df = pd.read_json(json.dumps(public_client.get_product_historic_rates('BTC-USD', granularity=900))) #Granularity choices: 60 (minute), 300 (5 minutes), 900 (15 mintes), 3600 (1 hour), 21600 (6 hours), 86400 (1 day)"
   ]
  },
  {
   "cell_type": "code",
   "execution_count": null,
   "metadata": {},
   "outputs": [],
   "source": [
    "df.columns = ['time', 'low', 'high', 'open', 'close', 'volume'] #label columns\n",
    "df_time = df[\"time\"]\n",
    "df_low = df[\"low\"]\n",
    "df_high = df[\"high\"]\n",
    "df_open = df[\"open\"]\n",
    "df_close = df[\"close\"]\n",
    "df_volume = df[\"volume\"]"
   ]
  },
  {
   "cell_type": "code",
   "execution_count": null,
   "metadata": {},
   "outputs": [],
   "source": [
    "rsi = ta.rsi(df_close, 14)\n",
    "sma50 = ta.sma(df_close, 50)"
   ]
  },
  {
   "cell_type": "markdown",
   "metadata": {},
   "source": [
    "#### run below to plot the above historic data"
   ]
  },
  {
   "cell_type": "code",
   "execution_count": null,
   "metadata": {},
   "outputs": [],
   "source": [
    "ax1 = plt.subplot(411)\n",
    "plt.plot(df_close, label=\"close\")\n",
    "plt.plot(sma50, label=\"sma50\")\n",
    "plt.legend()\n",
    "plt.xlabel('time')\n",
    "plt.ylabel('close')\n",
    "\n",
    "plt.subplot(412, sharex=ax1)\n",
    "plt.plot(rsi, label=\"rsi\")\n",
    "plt.legend()\n",
    "plt.ylabel('rsi')\n",
    "\n",
    "plt.show()"
   ]
  },
  {
   "cell_type": "markdown",
   "metadata": {},
   "source": [
    "## Websocket stream"
   ]
  },
  {
   "cell_type": "code",
   "execution_count": null,
   "metadata": {},
   "outputs": [],
   "source": [
    "api_key = 'b530f8d3d0c88c44c63300fdfcdede40'\n",
    "api_secret = 'WS9U7h4ZCLS/3nAiMqtbWWzlYWmcE57AlvZ9bsoW60eCuIiGTcEt1FVQfnD91vWPVUj6icvRjRGAlUtqe187HQ=='\n",
    "api_passphrase = 'pickysandbox'"
   ]
  },
  {
   "cell_type": "code",
   "execution_count": null,
   "metadata": {},
   "outputs": [],
   "source": [
    "class TextWebsocketClient(cbpro.WebsocketClient):\n",
    "    def on_open(self):\n",
    "        self.url = 'wss://ws-feed-public.sandbox.pro.coinbase.com'\n",
    "        self.message_count = 0\n",
    "        \n",
    "    def on_message(self,msg):\n",
    "        self.message_count += 1\n",
    "        msg_type = msg.get('type',None)\n",
    "        if msg_type == 'ticker':\n",
    "            time_val = msg.get('time',('-'*27))\n",
    "            price_val = msg.get('price',None)\n",
    "            price_val = float(price_val) if price_val is not None else 'None'\n",
    "            product_id = msg.get('product_id',None)\n",
    "\n",
    "            print(f\"{time_val:30} {price_val:.3f} {product_id}\\tchannel type:{msg_type}\")\n",
    "        \n",
    "    def on_close(self):\n",
    "        print(f\"<---Websocket connection closed--->\\n\\tTotal messages: {self.message_count}\")"
   ]
  },
  {
   "cell_type": "markdown",
   "metadata": {},
   "source": [
    "#### run below to start stream"
   ]
  },
  {
   "cell_type": "code",
   "execution_count": null,
   "metadata": {},
   "outputs": [],
   "source": [
    "stream = TextWebsocketClient(products=['BTC-USD'],channels=['ticker'])\n",
    "stream.start()"
   ]
  },
  {
   "cell_type": "markdown",
   "metadata": {},
   "source": [
    "#### run below to close stream"
   ]
  },
  {
   "cell_type": "code",
   "execution_count": null,
   "metadata": {},
   "outputs": [],
   "source": [
    "stream.close()"
   ]
  }
 ],
 "metadata": {
  "kernelspec": {
   "display_name": "Python 3",
   "language": "python",
   "name": "python3"
  },
  "language_info": {
   "codemirror_mode": {
    "name": "ipython",
    "version": 3
   },
   "file_extension": ".py",
   "mimetype": "text/x-python",
   "name": "python",
   "nbconvert_exporter": "python",
   "pygments_lexer": "ipython3",
   "version": "3.7.8"
  }
 },
 "nbformat": 4,
 "nbformat_minor": 4
}
