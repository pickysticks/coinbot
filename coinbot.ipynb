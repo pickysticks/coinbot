{
 "cells": [
  {
   "cell_type": "code",
   "execution_count": 3,
   "metadata": {},
   "outputs": [
    {
     "name": "stdout",
     "output_type": "stream",
     "text": [
      "Requirement already satisfied: pandas_ta in /srv/conda/envs/notebook/lib/python3.7/site-packages (0.2.23b0)\n",
      "Requirement already satisfied: pandas in /srv/conda/envs/notebook/lib/python3.7/site-packages (from pandas_ta) (1.2.1)\n",
      "Requirement already satisfied: numpy>=1.16.5 in /srv/conda/envs/notebook/lib/python3.7/site-packages (from pandas->pandas_ta) (1.20.1)\n",
      "Requirement already satisfied: python-dateutil>=2.7.3 in /srv/conda/envs/notebook/lib/python3.7/site-packages (from pandas->pandas_ta) (2.8.1)\n",
      "Requirement already satisfied: pytz>=2017.3 in /srv/conda/envs/notebook/lib/python3.7/site-packages (from pandas->pandas_ta) (2021.1)\n",
      "Requirement already satisfied: six>=1.5 in /srv/conda/envs/notebook/lib/python3.7/site-packages (from python-dateutil>=2.7.3->pandas->pandas_ta) (1.10.0)\n",
      "Note: you may need to restart the kernel to use updated packages.\n"
     ]
    }
   ],
   "source": [
    "pip install pandas_ta"
   ]
  },
  {
   "cell_type": "code",
   "execution_count": 4,
   "metadata": {},
   "outputs": [
    {
     "name": "stdout",
     "output_type": "stream",
     "text": [
      "Requirement already satisfied: cbpro in /srv/conda/envs/notebook/lib/python3.7/site-packages (1.1.4)\n",
      "Requirement already satisfied: websocket-client==0.40.0 in /srv/conda/envs/notebook/lib/python3.7/site-packages (from cbpro) (0.40.0)\n",
      "Requirement already satisfied: sortedcontainers>=1.5.9 in /srv/conda/envs/notebook/lib/python3.7/site-packages (from cbpro) (2.3.0)\n",
      "Requirement already satisfied: six==1.10.0 in /srv/conda/envs/notebook/lib/python3.7/site-packages (from cbpro) (1.10.0)\n",
      "Requirement already satisfied: requests==2.13.0 in /srv/conda/envs/notebook/lib/python3.7/site-packages (from cbpro) (2.13.0)\n",
      "Requirement already satisfied: pymongo==3.5.1 in /srv/conda/envs/notebook/lib/python3.7/site-packages (from cbpro) (3.5.1)\n",
      "Note: you may need to restart the kernel to use updated packages.\n"
     ]
    }
   ],
   "source": [
    "pip install cbpro"
   ]
  },
  {
   "cell_type": "code",
   "execution_count": 5,
   "metadata": {},
   "outputs": [
    {
     "name": "stdout",
     "output_type": "stream",
     "text": [
      "Requirement already satisfied: dataclasses in /srv/conda/envs/notebook/lib/python3.7/site-packages (0.6)\n",
      "Note: you may need to restart the kernel to use updated packages.\n"
     ]
    }
   ],
   "source": [
    "pip install dataclasses"
   ]
  },
  {
   "cell_type": "code",
   "execution_count": 6,
   "metadata": {},
   "outputs": [
    {
     "name": "stdout",
     "output_type": "stream",
     "text": [
      "Requirement already satisfied: matplotlib in /srv/conda/envs/notebook/lib/python3.7/site-packages (3.3.4)\n",
      "Requirement already satisfied: numpy>=1.15 in /srv/conda/envs/notebook/lib/python3.7/site-packages (from matplotlib) (1.20.1)\n",
      "Requirement already satisfied: python-dateutil>=2.1 in /srv/conda/envs/notebook/lib/python3.7/site-packages (from matplotlib) (2.8.1)\n",
      "Requirement already satisfied: pyparsing!=2.0.4,!=2.1.2,!=2.1.6,>=2.0.3 in /srv/conda/envs/notebook/lib/python3.7/site-packages (from matplotlib) (2.4.7)\n",
      "Requirement already satisfied: cycler>=0.10 in /srv/conda/envs/notebook/lib/python3.7/site-packages (from matplotlib) (0.10.0)\n",
      "Requirement already satisfied: pillow>=6.2.0 in /srv/conda/envs/notebook/lib/python3.7/site-packages (from matplotlib) (8.1.0)\n",
      "Requirement already satisfied: kiwisolver>=1.0.1 in /srv/conda/envs/notebook/lib/python3.7/site-packages (from matplotlib) (1.3.1)\n",
      "Requirement already satisfied: six>=1.5 in /srv/conda/envs/notebook/lib/python3.7/site-packages (from python-dateutil>=2.1->matplotlib) (1.10.0)\n",
      "Note: you may need to restart the kernel to use updated packages.\n"
     ]
    }
   ],
   "source": [
    "pip install matplotlib"
   ]
  },
  {
   "cell_type": "code",
   "execution_count": 8,
   "metadata": {},
   "outputs": [],
   "source": [
    "import json\n",
    "import pandas_ta as ta\n",
    "import cbpro\n",
    "import pandas as pd\n",
    "import matplotlib.pyplot as plt"
   ]
  },
  {
   "cell_type": "code",
   "execution_count": 9,
   "metadata": {},
   "outputs": [],
   "source": [
    "api_key = 'b530f8d3d0c88c44c63300fdfcdede40'\n",
    "api_secret = 'WS9U7h4ZCLS/3nAiMqtbWWzlYWmcE57AlvZ9bsoW60eCuIiGTcEt1FVQfnD91vWPVUj6icvRjRGAlUtqe187HQ=='\n",
    "api_passphrase = 'pickysandbox'"
   ]
  },
  {
   "cell_type": "code",
   "execution_count": 18,
   "metadata": {},
   "outputs": [],
   "source": [
    "public_client = cbpro.PublicClient() #opens a client to query PUBLIC coinbase api"
   ]
  },
  {
   "cell_type": "code",
   "execution_count": 28,
   "metadata": {},
   "outputs": [],
   "source": [
    "df = pd.read_json(json.dumps(public_client.get_product_historic_rates('BTC-USD', granularity=900))) #Granularity choices: 60 (minute), 300 (5 minutes), 900 (15 mintes), 3600 (1 hour), 21600 (6 hours), 86400 (1 day)"
   ]
  },
  {
   "cell_type": "code",
   "execution_count": 30,
   "metadata": {},
   "outputs": [],
   "source": [
    "df.columns = ['time', 'low', 'high', 'open', 'close', 'volume'] #label columns\n",
    "df_time = df[\"time\"]\n",
    "df_low = df[\"low\"]\n",
    "df_high = df[\"high\"]\n",
    "df_open = df[\"open\"]\n",
    "df_close = df[\"close\"]\n",
    "df_volume = df[\"volume\"]"
   ]
  },
  {
   "cell_type": "code",
   "execution_count": 31,
   "metadata": {},
   "outputs": [],
   "source": [
    "rsi = ta.rsi(df_close, 14)\n",
    "sma50 = ta.sma(df_close, 50)"
   ]
  },
  {
   "cell_type": "code",
   "execution_count": 32,
   "metadata": {},
   "outputs": [
    {
     "data": {
      "image/png": "[encoded data removed]",
      "text/plain": [
       "<Figure size 432x288 with 2 Axes>"
      ]
     },
     "metadata": {
      "needs_background": "light"
     },
     "output_type": "display_data"
    }
   ],
   "source": [
    "ax1 = plt.subplot(411)\n",
    "plt.plot(df_close, label=\"close\")\n",
    "plt.plot(sma50, label=\"sma50\")\n",
    "plt.legend()\n",
    "plt.xlabel('time')\n",
    "plt.ylabel('close')\n",
    "\n",
    "plt.subplot(412, sharex=ax1)\n",
    "plt.plot(rsi, label=\"rsi\")\n",
    "plt.legend()\n",
    "plt.ylabel('rsi')\n",
    "\n",
    "plt.show()"
   ]
  },
  {
   "cell_type": "code",
   "execution_count": 34,
   "metadata": {},
   "outputs": [],
   "source": [
    "class TextWebsocketClient(cbpro.WebsocketClient):\n",
    "    def on_open(self):\n",
    "        self.url = 'wss://ws-feed-public.sandbox.pro.coinbase.com'\n",
    "        self.message_count = 0\n",
    "        \n",
    "    def on_message(self,msg):\n",
    "        self.message_count += 1\n",
    "        msg_type = msg.get('type',None)\n",
    "        if msg_type == 'ticker':\n",
    "            time_val = msg.get('time',('-'*27))\n",
    "            price_val = msg.get('price',None)\n",
    "            price_val = float(price_val) if price_val is not None else 'None'\n",
    "            product_id = msg.get('product_id',None)\n",
    "\n",
    "            print(f\"{time_val:30} {price_val:.3f} {product_id}\\tchannel type:{msg_type}\")\n",
    "        \n",
    "    def on_close(self):\n",
    "        print(f\"<---Websocket connection closed--->\\n\\tTotal messages: {self.message_count}\")"
   ]
  },
  {
   "cell_type": "code",
   "execution_count": 35,
   "metadata": {},
   "outputs": [
    {
     "name": "stdout",
     "output_type": "stream",
     "text": [
      "2021-02-08T19:29:44.814070Z    42976.300 BTC-USD\tchannel type:ticker\n",
      "2021-02-08T19:29:45.166868Z    42976.300 BTC-USD\tchannel type:ticker\n",
      "2021-02-08T19:29:47.554460Z    42976.320 BTC-USD\tchannel type:ticker\n",
      "2021-02-08T19:29:48.108863Z    42976.320 BTC-USD\tchannel type:ticker\n",
      "2021-02-08T19:29:48.642797Z    42976.320 BTC-USD\tchannel type:ticker\n",
      "2021-02-08T19:29:49.193015Z    42976.320 BTC-USD\tchannel type:ticker\n",
      "2021-02-08T19:29:50.170721Z    42976.320 BTC-USD\tchannel type:ticker\n",
      "2021-02-08T19:29:50.584255Z    42976.320 BTC-USD\tchannel type:ticker\n",
      "2021-02-08T19:29:54.451656Z    42976.320 BTC-USD\tchannel type:ticker\n",
      "2021-02-08T19:29:54.728401Z    42976.320 BTC-USD\tchannel type:ticker\n",
      "2021-02-08T19:29:55.152225Z    42976.300 BTC-USD\tchannel type:ticker\n",
      "2021-02-08T19:29:55.177757Z    42976.320 BTC-USD\tchannel type:ticker\n",
      "2021-02-08T19:29:55.312534Z    42976.320 BTC-USD\tchannel type:ticker\n",
      "2021-02-08T19:29:56.655248Z    42976.320 BTC-USD\tchannel type:ticker\n",
      "2021-02-08T19:29:56.811878Z    42976.320 BTC-USD\tchannel type:ticker\n"
     ]
    }
   ],
   "source": [
    "stream = TextWebsocketClient(products=['BTC-USD'],channels=['ticker'])\n",
    "stream.start()"
   ]
  },
  {
   "cell_type": "code",
   "execution_count": 37,
   "metadata": {},
   "outputs": [
    {
     "name": "stdout",
     "output_type": "stream",
     "text": [
      "2021-02-08T19:31:59.364334Z    43063.030 BTC-USD\tchannel type:ticker\n",
      "<---Websocket connection closed--->\n",
      "\tTotal messages: 94\n"
     ]
    }
   ],
   "source": [
    "stream.close()"
   ]
  },
  {
   "cell_type": "code",
   "execution_count": null,
   "metadata": {},
   "outputs": [],
   "source": []
  }
 ],
 "metadata": {
  "kernelspec": {
   "display_name": "Python 3",
   "language": "python",
   "name": "python3"
  },
  "language_info": {
   "codemirror_mode": {
    "name": "ipython",
    "version": 3
   },
   "file_extension": ".py",
   "mimetype": "text/x-python",
   "name": "python",
   "nbconvert_exporter": "python",
   "pygments_lexer": "ipython3",
   "version": "3.7.8"
  }
 },
 "nbformat": 4,
 "nbformat_minor": 4
}
